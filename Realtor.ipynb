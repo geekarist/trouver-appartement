{
 "metadata": {
  "name": "",
  "signature": "sha256:35b43867a02e6c3835815a655e1fa13c57aa17bd80396c213038edf44be08de5"
 },
 "nbformat": 3,
 "nbformat_minor": 0,
 "worksheets": [
  {
   "cells": [
    {
     "cell_type": "code",
     "collapsed": false,
     "input": [
      "class AgentImmo:\n",
      "    def trouve_moi_un_appart(self):\n",
      "        return self.trouve_moi_un_appart_pres_de([])\n",
      "    def trouve_moi_un_appart_pres_de(self, mes_lieux=[]):\n",
      "        return {'code_postal': '75011', 'prix_euros': 750, 'url': None, 'surface_m2': 29}"
     ],
     "language": "python",
     "metadata": {},
     "outputs": [],
     "prompt_number": 9
    },
    {
     "cell_type": "code",
     "collapsed": false,
     "input": [
      "plaza = AgentImmo()"
     ],
     "language": "python",
     "metadata": {},
     "outputs": [],
     "prompt_number": 10
    },
    {
     "cell_type": "code",
     "collapsed": false,
     "input": [
      "plaza.trouve_moi_un_appart()"
     ],
     "language": "python",
     "metadata": {},
     "outputs": [
      {
       "metadata": {},
       "output_type": "pyout",
       "prompt_number": 11,
       "text": [
        "{'surface_m2': 29, 'prix_euros': 750, 'code_postal': '75011', 'url': None}"
       ]
      }
     ],
     "prompt_number": 11
    },
    {
     "cell_type": "code",
     "collapsed": false,
     "input": [
      "plaza.trouve_moi_un_appart_pres_de([\n",
      "    'malakoff', 'villebon', 'saint-denis', 'courbevoie', \n",
      "    '75012', 'montreuil', '75005', 'arcueil', '75008'])"
     ],
     "language": "python",
     "metadata": {},
     "outputs": [
      {
       "metadata": {},
       "output_type": "pyout",
       "prompt_number": 13,
       "text": [
        "{'surface_m2': 29, 'prix_euros': 750, 'code_postal': '75011', 'url': None}"
       ]
      }
     ],
     "prompt_number": 13
    }
   ],
   "metadata": {}
  }
 ]
}