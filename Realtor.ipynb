{
 "metadata": {
  "name": "",
  "signature": "sha256:645d469f6e29da1965187962f14b0f2eb9f0118836732d2a90a4d7a9d585e196"
 },
 "nbformat": 3,
 "nbformat_minor": 0,
 "worksheets": [
  {
   "cells": [
    {
     "cell_type": "code",
     "collapsed": false,
     "input": [
      "class AgentImmo:\n",
      "    def trouve_moi_un_appart(self):\n",
      "        return self.trouve_moi_un_appart_pres_de([])\n",
      "    def trouve_moi_un_appart_pres_de(self, mes_lieux=[]):\n",
      "        return {'code_postal': '75011', 'prix_euros': 750, 'url': None, 'surface_m2': 29}"
     ],
     "language": "python",
     "metadata": {},
     "outputs": [],
     "prompt_number": 68
    },
    {
     "cell_type": "code",
     "collapsed": false,
     "input": [
      "plaza = AgentImmo()"
     ],
     "language": "python",
     "metadata": {},
     "outputs": [],
     "prompt_number": 69
    },
    {
     "cell_type": "code",
     "collapsed": false,
     "input": [
      "plaza.trouve_moi_un_appart()"
     ],
     "language": "python",
     "metadata": {},
     "outputs": [
      {
       "metadata": {},
       "output_type": "pyout",
       "prompt_number": 70,
       "text": [
        "{'code_postal': '75011', 'url': None, 'prix_euros': 750, 'surface_m2': 29}"
       ]
      }
     ],
     "prompt_number": 70
    },
    {
     "cell_type": "code",
     "collapsed": false,
     "input": [
      "plaza.trouve_moi_un_appart_pres_de([\n",
      "    'malakoff', 'villebon', 'saint-denis', 'courbevoie', \n",
      "    '75012', 'montreuil', '75005', 'arcueil'])"
     ],
     "language": "python",
     "metadata": {},
     "outputs": [
      {
       "metadata": {},
       "output_type": "pyout",
       "prompt_number": 71,
       "text": [
        "{'code_postal': '75011', 'url': None, 'prix_euros': 750, 'surface_m2': 29}"
       ]
      }
     ],
     "prompt_number": 71
    }
   ],
   "metadata": {}
  }
 ]
}